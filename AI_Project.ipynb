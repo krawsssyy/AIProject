{
  "nbformat": 4,
  "nbformat_minor": 0,
  "metadata": {
    "colab": {
      "provenance": [],
      "toc_visible": true
    },
    "kernelspec": {
      "name": "python3",
      "display_name": "Python 3"
    },
    "language_info": {
      "name": "python"
    }
  },
  "cells": [
    {
      "cell_type": "markdown",
      "source": [
        "Initial setup"
      ],
      "metadata": {
        "id": "9ugiSxSDWZ0s"
      }
    },
    {
      "cell_type": "code",
      "execution_count": 69,
      "metadata": {
        "id": "ysU0PcKoR38u"
      },
      "outputs": [],
      "source": [
        "import sys\n",
        "assert sys.version_info >= (3, 5)\n",
        "import sklearn\n",
        "assert sklearn.__version__ >= \"0.20\"\n",
        "import os\n",
        "datapath = os.path.join(\"datasets\", \"\")\n"
      ]
    },
    {
      "cell_type": "markdown",
      "source": [
        "Download dataset"
      ],
      "metadata": {
        "id": "X57Dy3GZWjEj"
      }
    },
    {
      "cell_type": "code",
      "source": [
        "import urllib.request\n",
        "DOWNLOAD_PATH = \"https://raw.githubusercontent.com/ageron/handson-ml2/master/datasets/lifesat/oecd_bli_2015.csv\"\n",
        "os.makedirs(datapath, exist_ok=True)\n",
        "url = DOWNLOAD_PATH\n",
        "urllib.request.urlretrieve(url, datapath + \"oecd_bli_2015.csv\")"
      ],
      "metadata": {
        "colab": {
          "base_uri": "https://localhost:8080/"
        },
        "id": "j8bQltCpWlA6",
        "outputId": "9c12e780-45f3-4e1b-ca2d-a22271259726"
      },
      "execution_count": 70,
      "outputs": [
        {
          "output_type": "execute_result",
          "data": {
            "text/plain": [
              "('datasets/oecd_bli_2015.csv', <http.client.HTTPMessage at 0x783dd3e46920>)"
            ]
          },
          "metadata": {},
          "execution_count": 70
        }
      ]
    },
    {
      "cell_type": "markdown",
      "source": [
        "Prepare data and visualize it"
      ],
      "metadata": {
        "id": "JlGhBqgrXhpI"
      }
    },
    {
      "cell_type": "code",
      "source": [
        "import matplotlib.pyplot as plt\n",
        "import numpy as np\n",
        "import pandas as pd\n",
        "country_stats = pd.read_csv(datapath + \"oecd_bli_2015.csv\", thousands=',')\n",
        "country_stats = country_stats[country_stats[\"INEQUALITY\"]==\"TOT\"]\n",
        "country_stats = country_stats.pivot(index=\"Country\", columns=\"Indicator\", values=\"Value\")\n",
        "print(country_stats[[\"Years in education\", \"Homicide rate\"]])\n",
        "X = np.c_[country_stats[\"Years in education\"]]\n",
        "y = np.c_[country_stats[\"Homicide rate\"]]\n",
        "country_stats.plot(kind='scatter', x=\"Years in education\", y='Homicide rate')\n",
        "plt.show()"
      ],
      "metadata": {
        "colab": {
          "base_uri": "https://localhost:8080/",
          "height": 1000
        },
        "id": "6SFWGhuqXnKL",
        "outputId": "c1903918-3be2-4fdd-a2e6-03fa4fff3e30"
      },
      "execution_count": 71,
      "outputs": [
        {
          "output_type": "stream",
          "name": "stdout",
          "text": [
            "Indicator        Years in education  Homicide rate\n",
            "Country                                           \n",
            "Australia                      19.4            0.8\n",
            "Austria                        17.0            0.4\n",
            "Belgium                        18.9            1.1\n",
            "Brazil                         16.3           25.5\n",
            "Canada                         17.2            1.5\n",
            "Chile                          16.5            4.4\n",
            "Czech Republic                 18.1            0.8\n",
            "Denmark                        19.4            0.3\n",
            "Estonia                        17.5            4.8\n",
            "Finland                        19.7            1.4\n",
            "France                         16.4            0.6\n",
            "Germany                        18.2            0.5\n",
            "Greece                         18.6            1.6\n",
            "Hungary                        17.6            1.3\n",
            "Iceland                        19.8            0.3\n",
            "Ireland                        17.6            0.8\n",
            "Israel                         15.8            2.3\n",
            "Italy                          16.8            0.7\n",
            "Japan                          16.3            0.3\n",
            "Korea                          17.5            1.1\n",
            "Luxembourg                     15.1            0.4\n",
            "Mexico                         14.4           23.4\n",
            "Netherlands                    18.7            0.9\n",
            "New Zealand                    18.1            1.2\n",
            "Norway                         17.9            0.6\n",
            "OECD - Total                   17.7            4.0\n",
            "Poland                         18.4            0.9\n",
            "Portugal                       17.6            1.1\n",
            "Russia                         16.0           12.8\n",
            "Slovak Republic                16.3            1.2\n",
            "Slovenia                       18.4            0.4\n",
            "Spain                          17.6            0.6\n",
            "Sweden                         19.3            0.7\n",
            "Switzerland                    17.3            0.5\n",
            "Turkey                         16.4            1.2\n",
            "United Kingdom                 16.4            0.3\n",
            "United States                  17.2            5.2\n"
          ]
        },
        {
          "output_type": "display_data",
          "data": {
            "text/plain": [
              "<Figure size 640x480 with 1 Axes>"
            ],
            "image/png": "[encoded data removed]"
          },
          "metadata": {}
        }
      ]
    },
    {
      "cell_type": "markdown",
      "source": [
        "Remove outliers and see new data"
      ],
      "metadata": {
        "id": "aHr6avIzoX3s"
      }
    },
    {
      "cell_type": "code",
      "source": [
        "remove_indices = [3, 5, 8, 16, 21, 25, 28]\n",
        "keep_indices = list(set(range(36)) - set(remove_indices))\n",
        "country_stats = country_stats[[\"Years in education\", 'Homicide rate']].iloc[keep_indices]\n",
        "print(country_stats[[\"Years in education\", \"Homicide rate\"]])\n",
        "X = np.c_[country_stats[\"Years in education\"]]\n",
        "y = np.c_[country_stats[\"Homicide rate\"]]\n",
        "country_stats.plot(kind='scatter', x=\"Years in education\", y='Homicide rate')\n",
        "plt.show()"
      ],
      "metadata": {
        "colab": {
          "base_uri": "https://localhost:8080/",
          "height": 1000
        },
        "id": "mV4KoHDVmNTO",
        "outputId": "5351d378-53d8-43ed-86ee-0b38d5c13784"
      },
      "execution_count": 72,
      "outputs": [
        {
          "output_type": "stream",
          "name": "stdout",
          "text": [
            "Indicator        Years in education  Homicide rate\n",
            "Country                                           \n",
            "Australia                      19.4            0.8\n",
            "Austria                        17.0            0.4\n",
            "Belgium                        18.9            1.1\n",
            "Canada                         17.2            1.5\n",
            "Czech Republic                 18.1            0.8\n",
            "Denmark                        19.4            0.3\n",
            "Finland                        19.7            1.4\n",
            "France                         16.4            0.6\n",
            "Germany                        18.2            0.5\n",
            "Greece                         18.6            1.6\n",
            "Hungary                        17.6            1.3\n",
            "Iceland                        19.8            0.3\n",
            "Ireland                        17.6            0.8\n",
            "Italy                          16.8            0.7\n",
            "Japan                          16.3            0.3\n",
            "Korea                          17.5            1.1\n",
            "Luxembourg                     15.1            0.4\n",
            "Netherlands                    18.7            0.9\n",
            "New Zealand                    18.1            1.2\n",
            "Norway                         17.9            0.6\n",
            "Poland                         18.4            0.9\n",
            "Portugal                       17.6            1.1\n",
            "Slovak Republic                16.3            1.2\n",
            "Slovenia                       18.4            0.4\n",
            "Spain                          17.6            0.6\n",
            "Sweden                         19.3            0.7\n",
            "Switzerland                    17.3            0.5\n",
            "Turkey                         16.4            1.2\n",
            "United Kingdom                 16.4            0.3\n"
          ]
        },
        {
          "output_type": "display_data",
          "data": {
            "text/plain": [
              "<Figure size 640x480 with 1 Axes>"
            ],
            "image/png": "[encoded data removed]"
          },
          "metadata": {}
        }
      ]
    },
    {
      "cell_type": "markdown",
      "source": [
        "Split data in training data and test data"
      ],
      "metadata": {
        "id": "iayVCznp8UTb"
      }
    },
    {
      "cell_type": "code",
      "source": [
        "from sklearn.model_selection import ShuffleSplit\n",
        "split = ShuffleSplit(n_splits=1, test_size=0.2, random_state=19)\n",
        "X_test, y_test = None, None\n",
        "for train_idx, test_idx in split.split(country_stats, country_stats[\"Homicide rate\"]):\n",
        "    print(country_stats.iloc[train_idx])\n",
        "    X = np.c_[country_stats.iloc[train_idx][\"Years in education\"]]\n",
        "    y = np.c_[country_stats.iloc[train_idx][\"Homicide rate\"]]\n",
        "    X_test = np.c_[country_stats.iloc[test_idx][\"Years in education\"]]\n",
        "    y_test = np.c_[country_stats.iloc[test_idx][\"Homicide rate\"]]\n",
        "plt.plot(X, y, \"b.\", linewidth=3)\n",
        "plt.legend(loc=\"upper left\")\n",
        "plt.xlabel(\"$Education$\", fontsize=10)\n",
        "plt.ylabel(\"$Homicide$\", rotation=0, fontsize=10)\n",
        "plt.axis([14, 20, 0, 2])\n",
        "plt.show()"
      ],
      "metadata": {
        "colab": {
          "base_uri": "https://localhost:8080/",
          "height": 948
        },
        "id": "jL03n2ao8ZAy",
        "outputId": "6cc7dc51-0d6a-4609-e5b5-0d9c110c0934"
      },
      "execution_count": 73,
      "outputs": [
        {
          "output_type": "stream",
          "name": "stderr",
          "text": [
            "WARNING:matplotlib.legend:No artists with labels found to put in legend.  Note that artists whose label start with an underscore are ignored when legend() is called with no argument.\n"
          ]
        },
        {
          "output_type": "stream",
          "name": "stdout",
          "text": [
            "Indicator        Years in education  Homicide rate\n",
            "Country                                           \n",
            "Iceland                        19.8            0.3\n",
            "Spain                          17.6            0.6\n",
            "Czech Republic                 18.1            0.8\n",
            "Netherlands                    18.7            0.9\n",
            "Greece                         18.6            1.6\n",
            "Luxembourg                     15.1            0.4\n",
            "United Kingdom                 16.4            0.3\n",
            "Australia                      19.4            0.8\n",
            "Korea                          17.5            1.1\n",
            "France                         16.4            0.6\n",
            "Ireland                        17.6            0.8\n",
            "Slovak Republic                16.3            1.2\n",
            "Austria                        17.0            0.4\n",
            "Denmark                        19.4            0.3\n",
            "Turkey                         16.4            1.2\n",
            "Switzerland                    17.3            0.5\n",
            "Hungary                        17.6            1.3\n",
            "Poland                         18.4            0.9\n",
            "Norway                         17.9            0.6\n",
            "Germany                        18.2            0.5\n",
            "Belgium                        18.9            1.1\n",
            "Portugal                       17.6            1.1\n",
            "Japan                          16.3            0.3\n"
          ]
        },
        {
          "output_type": "display_data",
          "data": {
            "text/plain": [
              "<Figure size 640x480 with 1 Axes>"
            ],
            "image/png": "[encoded data removed]"
          },
          "metadata": {}
        }
      ]
    },
    {
      "cell_type": "markdown",
      "source": [
        "Test Polynomial Regression with various degrees"
      ],
      "metadata": {
        "id": "Kn-UEsir7V1w"
      }
    },
    {
      "cell_type": "code",
      "source": [
        "from sklearn.preprocessing import StandardScaler\n",
        "from sklearn.pipeline import Pipeline\n",
        "from sklearn.linear_model import LinearRegression\n",
        "from sklearn.preprocessing import PolynomialFeatures\n",
        "Ox = np.linspace(15, 20, 100).reshape(100, 1)\n",
        "for style, width, degree in ((\"g-\", 2, 6), (\"b--\", 2, 5), (\"r-+\", 2, 4), (\"c-\", 1, 3), (\"m--\", 1, 2), (\"y-+\", 1, 1)):\n",
        "    polybig_features = PolynomialFeatures(degree=degree, include_bias=True)\n",
        "    std_scaler = StandardScaler()\n",
        "    lin_reg = LinearRegression()\n",
        "    polynomial_regression = Pipeline([\n",
        "            (\"poly_features\", polybig_features),\n",
        "            (\"std_scaler\", std_scaler),\n",
        "            (\"lin_reg\", lin_reg),\n",
        "        ])\n",
        "    polynomial_regression.fit(X, y)\n",
        "    y_newbig = polynomial_regression.predict(Ox)\n",
        "    plt.plot(Ox, y_newbig, style, label=str(degree), linewidth=width)\n",
        "\n",
        "plt.plot(X, y, \"b.\", linewidth=3)\n",
        "plt.legend(loc=\"upper left\")\n",
        "plt.xlabel(\"$Education$\", fontsize=10)\n",
        "plt.ylabel(\"$Homicide$\", rotation=0, fontsize=10)\n",
        "plt.axis([15, 20, 0, 2])\n",
        "plt.show()"
      ],
      "metadata": {
        "colab": {
          "base_uri": "https://localhost:8080/",
          "height": 456
        },
        "id": "FThuS8HX7HFQ",
        "outputId": "b7e2bfa6-1956-4ef3-cb91-65f4c63fa366"
      },
      "execution_count": 74,
      "outputs": [
        {
          "output_type": "display_data",
          "data": {
            "text/plain": [
              "<Figure size 640x480 with 1 Axes>"
            ],
            "image/png": "[encoded data removed]"
          },
          "metadata": {}
        }
      ]
    },
    {
      "cell_type": "markdown",
      "source": [
        "We'll go further using the 3rd degree polynom as it somehow fits the trend of the data, and is the only polynom where the lower the x-axis goes the higher the y values goes, and the higher the values in the x-axis the lower the values in the y-axis"
      ],
      "metadata": {
        "id": "Uleu8SX6HAlw"
      }
    },
    {
      "cell_type": "code",
      "source": [
        "polybig_features = PolynomialFeatures(degree=3, include_bias=True)\n",
        "std_scaler = StandardScaler()\n",
        "lin_reg = sklearn.linear_model.LinearRegression()\n",
        "polynomial_regression = Pipeline([\n",
        "        (\"poly_features\", polybig_features),\n",
        "        (\"std_scaler\", std_scaler),\n",
        "        (\"lin_reg\", lin_reg),\n",
        "    ])\n",
        "polynomial_regression.fit(X, y)"
      ],
      "metadata": {
        "colab": {
          "base_uri": "https://localhost:8080/",
          "height": 159
        },
        "id": "MRqxfxv2HEuT",
        "outputId": "e2167fb6-8e27-4d91-ca10-785263bd43a1"
      },
      "execution_count": 75,
      "outputs": [
        {
          "output_type": "execute_result",
          "data": {
            "text/plain": [
              "Pipeline(steps=[('poly_features', PolynomialFeatures(degree=3)),\n",
              "                ('std_scaler', StandardScaler()),\n",
              "                ('lin_reg', LinearRegression())])"
            ],
            "text/html": [
              "<style>#sk-container-id-3 {color: black;background-color: white;}#sk-container-id-3 pre{padding: 0;}#sk-container-id-3 div.sk-toggleable {background-color: white;}#sk-container-id-3 label.sk-toggleable__label {cursor: pointer;display: block;width: 100%;margin-bottom: 0;padding: 0.3em;box-sizing: border-box;text-align: center;}#sk-container-id-3 label.sk-toggleable__label-arrow:before {content: \"▸\";float: left;margin-right: 0.25em;color: #696969;}#sk-container-id-3 label.sk-toggleable__label-arrow:hover:before {color: black;}#sk-container-id-3 div.sk-estimator:hover label.sk-toggleable__label-arrow:before {color: black;}#sk-container-id-3 div.sk-toggleable__content {max-height: 0;max-width: 0;overflow: hidden;text-align: left;background-color: #f0f8ff;}#sk-container-id-3 div.sk-toggleable__content pre {margin: 0.2em;color: black;border-radius: 0.25em;background-color: #f0f8ff;}#sk-container-id-3 input.sk-toggleable__control:checked~div.sk-toggleable__content {max-height: 200px;max-width: 100%;overflow: auto;}#sk-container-id-3 input.sk-toggleable__control:checked~label.sk-toggleable__label-arrow:before {content: \"▾\";}#sk-container-id-3 div.sk-estimator input.sk-toggleable__control:checked~label.sk-toggleable__label {background-color: #d4ebff;}#sk-container-id-3 div.sk-label input.sk-toggleable__control:checked~label.sk-toggleable__label {background-color: #d4ebff;}#sk-container-id-3 input.sk-hidden--visually {border: 0;clip: rect(1px 1px 1px 1px);clip: rect(1px, 1px, 1px, 1px);height: 1px;margin: -1px;overflow: hidden;padding: 0;position: absolute;width: 1px;}#sk-container-id-3 div.sk-estimator {font-family: monospace;background-color: #f0f8ff;border: 1px dotted black;border-radius: 0.25em;box-sizing: border-box;margin-bottom: 0.5em;}#sk-container-id-3 div.sk-estimator:hover {background-color: #d4ebff;}#sk-container-id-3 div.sk-parallel-item::after {content: \"\";width: 100%;border-bottom: 1px solid gray;flex-grow: 1;}#sk-container-id-3 div.sk-label:hover label.sk-toggleable__label {background-color: #d4ebff;}#sk-container-id-3 div.sk-serial::before {content: \"\";position: absolute;border-left: 1px solid gray;box-sizing: border-box;top: 0;bottom: 0;left: 50%;z-index: 0;}#sk-container-id-3 div.sk-serial {display: flex;flex-direction: column;align-items: center;background-color: white;padding-right: 0.2em;padding-left: 0.2em;position: relative;}#sk-container-id-3 div.sk-item {position: relative;z-index: 1;}#sk-container-id-3 div.sk-parallel {display: flex;align-items: stretch;justify-content: center;background-color: white;position: relative;}#sk-container-id-3 div.sk-item::before, #sk-container-id-3 div.sk-parallel-item::before {content: \"\";position: absolute;border-left: 1px solid gray;box-sizing: border-box;top: 0;bottom: 0;left: 50%;z-index: -1;}#sk-container-id-3 div.sk-parallel-item {display: flex;flex-direction: column;z-index: 1;position: relative;background-color: white;}#sk-container-id-3 div.sk-parallel-item:first-child::after {align-self: flex-end;width: 50%;}#sk-container-id-3 div.sk-parallel-item:last-child::after {align-self: flex-start;width: 50%;}#sk-container-id-3 div.sk-parallel-item:only-child::after {width: 0;}#sk-container-id-3 div.sk-dashed-wrapped {border: 1px dashed gray;margin: 0 0.4em 0.5em 0.4em;box-sizing: border-box;padding-bottom: 0.4em;background-color: white;}#sk-container-id-3 div.sk-label label {font-family: monospace;font-weight: bold;display: inline-block;line-height: 1.2em;}#sk-container-id-3 div.sk-label-container {text-align: center;}#sk-container-id-3 div.sk-container {/* jupyter's `normalize.less` sets `[hidden] { display: none; }` but bootstrap.min.css set `[hidden] { display: none !important; }` so we also need the `!important` here to be able to override the default hidden behavior on the sphinx rendered scikit-learn.org. See: https://github.com/scikit-learn/scikit-learn/issues/21755 */display: inline-block !important;position: relative;}#sk-container-id-3 div.sk-text-repr-fallback {display: none;}</style><div id=\"sk-container-id-3\" class=\"sk-top-container\"><div class=\"sk-text-repr-fallback\"><pre>Pipeline(steps=[(&#x27;poly_features&#x27;, PolynomialFeatures(degree=3)),\n",
              "                (&#x27;std_scaler&#x27;, StandardScaler()),\n",
              "                (&#x27;lin_reg&#x27;, LinearRegression())])</pre><b>In a Jupyter environment, please rerun this cell to show the HTML representation or trust the notebook. <br />On GitHub, the HTML representation is unable to render, please try loading this page with nbviewer.org.</b></div><div class=\"sk-container\" hidden><div class=\"sk-item sk-dashed-wrapped\"><div class=\"sk-label-container\"><div class=\"sk-label sk-toggleable\"><input class=\"sk-toggleable__control sk-hidden--visually\" id=\"sk-estimator-id-6\" type=\"checkbox\" ><label for=\"sk-estimator-id-6\" class=\"sk-toggleable__label sk-toggleable__label-arrow\">Pipeline</label><div class=\"sk-toggleable__content\"><pre>Pipeline(steps=[(&#x27;poly_features&#x27;, PolynomialFeatures(degree=3)),\n",
              "                (&#x27;std_scaler&#x27;, StandardScaler()),\n",
              "                (&#x27;lin_reg&#x27;, LinearRegression())])</pre></div></div></div><div class=\"sk-serial\"><div class=\"sk-item\"><div class=\"sk-estimator sk-toggleable\"><input class=\"sk-toggleable__control sk-hidden--visually\" id=\"sk-estimator-id-7\" type=\"checkbox\" ><label for=\"sk-estimator-id-7\" class=\"sk-toggleable__label sk-toggleable__label-arrow\">PolynomialFeatures</label><div class=\"sk-toggleable__content\"><pre>PolynomialFeatures(degree=3)</pre></div></div></div><div class=\"sk-item\"><div class=\"sk-estimator sk-toggleable\"><input class=\"sk-toggleable__control sk-hidden--visually\" id=\"sk-estimator-id-8\" type=\"checkbox\" ><label for=\"sk-estimator-id-8\" class=\"sk-toggleable__label sk-toggleable__label-arrow\">StandardScaler</label><div class=\"sk-toggleable__content\"><pre>StandardScaler()</pre></div></div></div><div class=\"sk-item\"><div class=\"sk-estimator sk-toggleable\"><input class=\"sk-toggleable__control sk-hidden--visually\" id=\"sk-estimator-id-9\" type=\"checkbox\" ><label for=\"sk-estimator-id-9\" class=\"sk-toggleable__label sk-toggleable__label-arrow\">LinearRegression</label><div class=\"sk-toggleable__content\"><pre>LinearRegression()</pre></div></div></div></div></div></div></div>"
            ]
          },
          "metadata": {},
          "execution_count": 75
        }
      ]
    },
    {
      "cell_type": "markdown",
      "source": [
        "Let's evaluate it using the Root Mean Square Error"
      ],
      "metadata": {
        "id": "AJUI8NZeHzdJ"
      }
    },
    {
      "cell_type": "code",
      "source": [
        "from sklearn.metrics import mean_squared_error, mean_absolute_error\n",
        "poly_predict = polynomial_regression.predict(X)\n",
        "poly_rmse = np.sqrt(mean_squared_error(y, poly_predict))\n",
        "print(poly_rmse)\n"
      ],
      "metadata": {
        "colab": {
          "base_uri": "https://localhost:8080/"
        },
        "id": "7pN8k70OH2xH",
        "outputId": "c773e789-c9f0-4f56-a03e-54ad4db98a34"
      },
      "execution_count": 76,
      "outputs": [
        {
          "output_type": "stream",
          "name": "stdout",
          "text": [
            "0.32949245297974006\n"
          ]
        }
      ]
    },
    {
      "cell_type": "markdown",
      "source": [
        "Perform evaluation via cross validation"
      ],
      "metadata": {
        "id": "S-Sseyl_JqJz"
      }
    },
    {
      "cell_type": "code",
      "source": [
        "from sklearn.model_selection import cross_val_score\n",
        "scores = cross_val_score(polynomial_regression, X, y,\n",
        "                         scoring=\"neg_mean_squared_error\", cv=10)\n",
        "poly_rmse_scores = np.sqrt(-scores)\n",
        "print(poly_rmse_scores)\n",
        "print(\"Mean: \", poly_rmse_scores.mean())\n",
        "print(\"Std deviation: \", poly_rmse_scores.std())"
      ],
      "metadata": {
        "colab": {
          "base_uri": "https://localhost:8080/"
        },
        "id": "5JmyFDdrJkNh",
        "outputId": "6a9d4adc-e7ef-4f6f-ca4c-fbf0400ba05a"
      },
      "execution_count": 77,
      "outputs": [
        {
          "output_type": "stream",
          "name": "stdout",
          "text": [
            "[0.21318777 0.78827138 0.27752677 0.0691421  0.52541782 0.57101816\n",
            " 0.37795759 0.25831442 0.36885895 0.29300421]\n",
            "Mean:  0.37426991812586546\n",
            "Std deviation:  0.19530875972521894\n"
          ]
        }
      ]
    },
    {
      "cell_type": "markdown",
      "source": [
        "Test the model on the training set"
      ],
      "metadata": {
        "id": "Zq54ewKUMlqs"
      }
    },
    {
      "cell_type": "code",
      "source": [
        "print(poly_predict)\n",
        "print(y)"
      ],
      "metadata": {
        "colab": {
          "base_uri": "https://localhost:8080/"
        },
        "id": "QYQPgFv3MoRz",
        "outputId": "0232d8d4-7e2e-4ce9-f1c2-e02de23a94e0"
      },
      "execution_count": 78,
      "outputs": [
        {
          "output_type": "stream",
          "name": "stdout",
          "text": [
            "[[0.36750578]\n",
            " [0.88385561]\n",
            " [0.93486315]\n",
            " [0.89333285]\n",
            " [0.90996534]\n",
            " [0.5021663 ]\n",
            " [0.62475455]\n",
            " [0.6400807 ]\n",
            " [0.86708974]\n",
            " [0.62475455]\n",
            " [0.88385561]\n",
            " [0.60347323]\n",
            " [0.76315993]\n",
            " [0.6400807 ]\n",
            " [0.62475455]\n",
            " [0.82884401]\n",
            " [0.88385561]\n",
            " [0.93088349]\n",
            " [0.92194969]\n",
            " [0.93688121]\n",
            " [0.84656457]\n",
            " [0.88385561]\n",
            " [0.60347323]]\n",
            "[[0.3]\n",
            " [0.6]\n",
            " [0.8]\n",
            " [0.9]\n",
            " [1.6]\n",
            " [0.4]\n",
            " [0.3]\n",
            " [0.8]\n",
            " [1.1]\n",
            " [0.6]\n",
            " [0.8]\n",
            " [1.2]\n",
            " [0.4]\n",
            " [0.3]\n",
            " [1.2]\n",
            " [0.5]\n",
            " [1.3]\n",
            " [0.9]\n",
            " [0.6]\n",
            " [0.5]\n",
            " [1.1]\n",
            " [1.1]\n",
            " [0.3]]\n"
          ]
        }
      ]
    },
    {
      "cell_type": "markdown",
      "source": [
        "Test the model on the test set"
      ],
      "metadata": {
        "id": "aTscmNU2KNcG"
      }
    },
    {
      "cell_type": "code",
      "source": [
        "test_poly_predict = polynomial_regression.predict(X_test)\n",
        "print(X_test)\n",
        "print(test_poly_predict)\n",
        "print(y_test)"
      ],
      "metadata": {
        "colab": {
          "base_uri": "https://localhost:8080/"
        },
        "id": "AbGYAhhQKQOS",
        "outputId": "00fb6444-11b8-49b2-fc91-c141fe2a7046"
      },
      "execution_count": 79,
      "outputs": [
        {
          "output_type": "stream",
          "name": "stdout",
          "text": [
            "[[16.8]\n",
            " [17.2]\n",
            " [18.4]\n",
            " [19.7]\n",
            " [18.1]\n",
            " [19.3]]\n",
            "[[0.71652537]\n",
            " [0.80782675]\n",
            " [0.93088349]\n",
            " [0.44552369]\n",
            " [0.93486315]\n",
            " [0.69253846]]\n",
            "[[0.7]\n",
            " [1.5]\n",
            " [0.4]\n",
            " [1.4]\n",
            " [1.2]\n",
            " [0.7]]\n"
          ]
        }
      ]
    },
    {
      "cell_type": "markdown",
      "source": [
        "Now we're going to try to train a Decision tree regressor"
      ],
      "metadata": {
        "id": "44nJq2exk6Aa"
      }
    },
    {
      "cell_type": "code",
      "source": [
        "from sklearn.tree import DecisionTreeRegressor\n",
        "dt_regression = DecisionTreeRegressor()\n",
        "dt_regression.fit(X, y)\n"
      ],
      "metadata": {
        "colab": {
          "base_uri": "https://localhost:8080/",
          "height": 74
        },
        "id": "WXmFtDkgk-T4",
        "outputId": "de5551bf-67b3-4c5f-ac42-5cf058fe65d5"
      },
      "execution_count": 80,
      "outputs": [
        {
          "output_type": "execute_result",
          "data": {
            "text/plain": [
              "DecisionTreeRegressor()"
            ],
            "text/html": [
              "<style>#sk-container-id-4 {color: black;background-color: white;}#sk-container-id-4 pre{padding: 0;}#sk-container-id-4 div.sk-toggleable {background-color: white;}#sk-container-id-4 label.sk-toggleable__label {cursor: pointer;display: block;width: 100%;margin-bottom: 0;padding: 0.3em;box-sizing: border-box;text-align: center;}#sk-container-id-4 label.sk-toggleable__label-arrow:before {content: \"▸\";float: left;margin-right: 0.25em;color: #696969;}#sk-container-id-4 label.sk-toggleable__label-arrow:hover:before {color: black;}#sk-container-id-4 div.sk-estimator:hover label.sk-toggleable__label-arrow:before {color: black;}#sk-container-id-4 div.sk-toggleable__content {max-height: 0;max-width: 0;overflow: hidden;text-align: left;background-color: #f0f8ff;}#sk-container-id-4 div.sk-toggleable__content pre {margin: 0.2em;color: black;border-radius: 0.25em;background-color: #f0f8ff;}#sk-container-id-4 input.sk-toggleable__control:checked~div.sk-toggleable__content {max-height: 200px;max-width: 100%;overflow: auto;}#sk-container-id-4 input.sk-toggleable__control:checked~label.sk-toggleable__label-arrow:before {content: \"▾\";}#sk-container-id-4 div.sk-estimator input.sk-toggleable__control:checked~label.sk-toggleable__label {background-color: #d4ebff;}#sk-container-id-4 div.sk-label input.sk-toggleable__control:checked~label.sk-toggleable__label {background-color: #d4ebff;}#sk-container-id-4 input.sk-hidden--visually {border: 0;clip: rect(1px 1px 1px 1px);clip: rect(1px, 1px, 1px, 1px);height: 1px;margin: -1px;overflow: hidden;padding: 0;position: absolute;width: 1px;}#sk-container-id-4 div.sk-estimator {font-family: monospace;background-color: #f0f8ff;border: 1px dotted black;border-radius: 0.25em;box-sizing: border-box;margin-bottom: 0.5em;}#sk-container-id-4 div.sk-estimator:hover {background-color: #d4ebff;}#sk-container-id-4 div.sk-parallel-item::after {content: \"\";width: 100%;border-bottom: 1px solid gray;flex-grow: 1;}#sk-container-id-4 div.sk-label:hover label.sk-toggleable__label {background-color: #d4ebff;}#sk-container-id-4 div.sk-serial::before {content: \"\";position: absolute;border-left: 1px solid gray;box-sizing: border-box;top: 0;bottom: 0;left: 50%;z-index: 0;}#sk-container-id-4 div.sk-serial {display: flex;flex-direction: column;align-items: center;background-color: white;padding-right: 0.2em;padding-left: 0.2em;position: relative;}#sk-container-id-4 div.sk-item {position: relative;z-index: 1;}#sk-container-id-4 div.sk-parallel {display: flex;align-items: stretch;justify-content: center;background-color: white;position: relative;}#sk-container-id-4 div.sk-item::before, #sk-container-id-4 div.sk-parallel-item::before {content: \"\";position: absolute;border-left: 1px solid gray;box-sizing: border-box;top: 0;bottom: 0;left: 50%;z-index: -1;}#sk-container-id-4 div.sk-parallel-item {display: flex;flex-direction: column;z-index: 1;position: relative;background-color: white;}#sk-container-id-4 div.sk-parallel-item:first-child::after {align-self: flex-end;width: 50%;}#sk-container-id-4 div.sk-parallel-item:last-child::after {align-self: flex-start;width: 50%;}#sk-container-id-4 div.sk-parallel-item:only-child::after {width: 0;}#sk-container-id-4 div.sk-dashed-wrapped {border: 1px dashed gray;margin: 0 0.4em 0.5em 0.4em;box-sizing: border-box;padding-bottom: 0.4em;background-color: white;}#sk-container-id-4 div.sk-label label {font-family: monospace;font-weight: bold;display: inline-block;line-height: 1.2em;}#sk-container-id-4 div.sk-label-container {text-align: center;}#sk-container-id-4 div.sk-container {/* jupyter's `normalize.less` sets `[hidden] { display: none; }` but bootstrap.min.css set `[hidden] { display: none !important; }` so we also need the `!important` here to be able to override the default hidden behavior on the sphinx rendered scikit-learn.org. See: https://github.com/scikit-learn/scikit-learn/issues/21755 */display: inline-block !important;position: relative;}#sk-container-id-4 div.sk-text-repr-fallback {display: none;}</style><div id=\"sk-container-id-4\" class=\"sk-top-container\"><div class=\"sk-text-repr-fallback\"><pre>DecisionTreeRegressor()</pre><b>In a Jupyter environment, please rerun this cell to show the HTML representation or trust the notebook. <br />On GitHub, the HTML representation is unable to render, please try loading this page with nbviewer.org.</b></div><div class=\"sk-container\" hidden><div class=\"sk-item\"><div class=\"sk-estimator sk-toggleable\"><input class=\"sk-toggleable__control sk-hidden--visually\" id=\"sk-estimator-id-10\" type=\"checkbox\" checked><label for=\"sk-estimator-id-10\" class=\"sk-toggleable__label sk-toggleable__label-arrow\">DecisionTreeRegressor</label><div class=\"sk-toggleable__content\"><pre>DecisionTreeRegressor()</pre></div></div></div></div></div>"
            ]
          },
          "metadata": {},
          "execution_count": 80
        }
      ]
    },
    {
      "cell_type": "markdown",
      "source": [
        "Let's evaluate this new model using the root mean squared error"
      ],
      "metadata": {
        "id": "Ws4kTfAxlmOe"
      }
    },
    {
      "cell_type": "code",
      "source": [
        "dt_predict = dt_regression.predict(X)\n",
        "dt_rmse = np.sqrt(mean_squared_error(y, dt_predict))\n",
        "print(dt_rmse)"
      ],
      "metadata": {
        "colab": {
          "base_uri": "https://localhost:8080/"
        },
        "id": "mEz1r61_lq_a",
        "outputId": "97639153-1ef6-4844-8e06-b26757214477"
      },
      "execution_count": 81,
      "outputs": [
        {
          "output_type": "stream",
          "name": "stdout",
          "text": [
            "0.23219182474467284\n"
          ]
        }
      ]
    },
    {
      "cell_type": "markdown",
      "source": [
        "Now evaluate it using cross-validation"
      ],
      "metadata": {
        "id": "qy1v3nVSl-zN"
      }
    },
    {
      "cell_type": "code",
      "source": [
        "dt_scores = cross_val_score(dt_regression, X, y,\n",
        "                         scoring=\"neg_mean_squared_error\", cv=10)\n",
        "dt_rmse_scores = np.sqrt(-scores)\n",
        "print(dt_rmse_scores)\n",
        "print(\"Mean: \", dt_rmse_scores.mean())\n",
        "print(\"Std deviation: \", dt_rmse_scores.std())"
      ],
      "metadata": {
        "colab": {
          "base_uri": "https://localhost:8080/"
        },
        "id": "Z-S7nB5qmIBm",
        "outputId": "e1ba17b5-b4ed-4957-cda4-d116ff2ffc90"
      },
      "execution_count": 82,
      "outputs": [
        {
          "output_type": "stream",
          "name": "stdout",
          "text": [
            "[0.21318777 0.78827138 0.27752677 0.0691421  0.52541782 0.57101816\n",
            " 0.37795759 0.25831442 0.36885895 0.29300421]\n",
            "Mean:  0.37426991812586546\n",
            "Std deviation:  0.19530875972521894\n"
          ]
        }
      ]
    },
    {
      "cell_type": "markdown",
      "source": [
        "Let's test it on the training set"
      ],
      "metadata": {
        "id": "sG9teE-XM1VW"
      }
    },
    {
      "cell_type": "code",
      "source": [
        "print(dt_predict)\n",
        "print(y)"
      ],
      "metadata": {
        "colab": {
          "base_uri": "https://localhost:8080/"
        },
        "id": "CuwiHBF-M3SR",
        "outputId": "d0426bef-5c9a-4d5f-9986-13511746798b"
      },
      "execution_count": 83,
      "outputs": [
        {
          "output_type": "stream",
          "name": "stdout",
          "text": [
            "[0.3  0.95 0.8  0.9  1.6  0.4  0.7  0.55 1.1  0.7  0.95 0.75 0.4  0.55\n",
            " 0.7  0.5  0.95 0.9  0.6  0.5  1.1  0.95 0.75]\n",
            "[[0.3]\n",
            " [0.6]\n",
            " [0.8]\n",
            " [0.9]\n",
            " [1.6]\n",
            " [0.4]\n",
            " [0.3]\n",
            " [0.8]\n",
            " [1.1]\n",
            " [0.6]\n",
            " [0.8]\n",
            " [1.2]\n",
            " [0.4]\n",
            " [0.3]\n",
            " [1.2]\n",
            " [0.5]\n",
            " [1.3]\n",
            " [0.9]\n",
            " [0.6]\n",
            " [0.5]\n",
            " [1.1]\n",
            " [1.1]\n",
            " [0.3]]\n"
          ]
        }
      ]
    },
    {
      "cell_type": "markdown",
      "source": [
        "Now let's test it on the test set"
      ],
      "metadata": {
        "id": "tsfT9As8nSnj"
      }
    },
    {
      "cell_type": "code",
      "source": [
        "test_dt_predict = dt_regression.predict(X_test)\n",
        "print(X_test)\n",
        "print(test_dt_predict)\n",
        "print(y_test)"
      ],
      "metadata": {
        "colab": {
          "base_uri": "https://localhost:8080/"
        },
        "id": "d7yIzOy-nUxT",
        "outputId": "5faabb5e-73a4-4d92-fc50-e3c8e7ae1d5c"
      },
      "execution_count": 84,
      "outputs": [
        {
          "output_type": "stream",
          "name": "stdout",
          "text": [
            "[[16.8]\n",
            " [17.2]\n",
            " [18.4]\n",
            " [19.7]\n",
            " [18.1]\n",
            " [19.3]]\n",
            "[0.4  0.5  0.9  0.3  0.8  0.55]\n",
            "[[0.7]\n",
            " [1.5]\n",
            " [0.4]\n",
            " [1.4]\n",
            " [1.2]\n",
            " [0.7]]\n"
          ]
        }
      ]
    },
    {
      "cell_type": "markdown",
      "source": [
        "Let's see the differences in performance measuring for both models"
      ],
      "metadata": {
        "id": "4vtXy-baINLa"
      }
    },
    {
      "cell_type": "code",
      "source": [
        "print (\"{:<19} {:<19} {:<19} {:<19}\".format('RMSE','Mean','Standard Deviation', 'Model'))\n",
        "print (\"{:<19} {:<19} {:<19} {:<19}\".format(poly_rmse, poly_rmse_scores.mean(), poly_rmse_scores.std(), \"Polynomial Regression\"))\n",
        "print (\"{:<19} {:<19} {:<19} {:<19}\".format(dt_rmse, dt_rmse_scores.mean(), dt_rmse_scores.std(), \"Decision Tree Regression\"))\n",
        "poly_train_ctr = 0\n",
        "for i in range(len(poly_predict)):\n",
        "    if np.abs(poly_predict[i] - y[i]) < 0.1:\n",
        "        poly_train_ctr += 1\n",
        "poly_test_ctr = 0\n",
        "for i in range(len(test_poly_predict)):\n",
        "    if np.abs(test_poly_predict[i] - y_test[i]) < 0.1:\n",
        "        poly_test_ctr += 1\n",
        "dt_train_ctr = 0\n",
        "for i in range(len(dt_predict)):\n",
        "    if np.abs(dt_predict[i] - y[i]) < 0.1:\n",
        "        dt_train_ctr += 1\n",
        "dt_test_ctr = 0\n",
        "for i in range(len(test_dt_predict)):\n",
        "    if np.abs(test_dt_predict[i] - y_test[i]) < 0.1:\n",
        "        dt_test_ctr += 1\n",
        "print()\n",
        "print (\"{:<19} {:<19} {:<19}\".format('Training set','Test set', 'Model'))\n",
        "print (\"{:<19} {:<19} {:<19}\".format(str(poly_train_ctr) + \"/23\", str(poly_test_ctr) + \"/6\", \"Polynomial Regression\"))\n",
        "print (\"{:<19} {:<19} {:<19}\".format(str(dt_train_ctr) + \"/23\", str(dt_test_ctr) + \"/6\", \"Decision Tree Regression\"))"
      ],
      "metadata": {
        "colab": {
          "base_uri": "https://localhost:8080/"
        },
        "id": "jdTJ5g8hITVO",
        "outputId": "f2f780e0-68f2-4741-ca64-606fd310cdb0"
      },
      "execution_count": 85,
      "outputs": [
        {
          "output_type": "stream",
          "name": "stdout",
          "text": [
            "RMSE                Mean                Standard Deviation  Model              \n",
            "0.32949245297974006 0.37426991812586546 0.19530875972521894 Polynomial Regression\n",
            "0.23219182474467284 0.37426991812586546 0.19530875972521894 Decision Tree Regression\n",
            "\n",
            "Training set        Test set            Model              \n",
            "5/23                2/6                 Polynomial Regression\n",
            "12/23               0/6                 Decision Tree Regression\n"
          ]
        }
      ]
    },
    {
      "cell_type": "markdown",
      "source": [
        "By performance and results on the training set, the decision tree regressor seems better, but by the results on the testing data, the polynomial regression is better, so we'll choose the decision tree regressor. Let's test it with newer data from https://stats.oecd.org/index.aspx?DataSetCode=BLI"
      ],
      "metadata": {
        "id": "rYampI9Hx5f8"
      }
    },
    {
      "cell_type": "code",
      "source": [
        "print(dt_regression.predict([[18]])) # Korea, 0.8\n",
        "print(dt_regression.predict([[17]])) # Portugal, 0.7"
      ],
      "metadata": {
        "colab": {
          "base_uri": "https://localhost:8080/"
        },
        "id": "6MkpF-gNx9sJ",
        "outputId": "348240dd-5632-4347-e7a9-d89ccb65572e"
      },
      "execution_count": 86,
      "outputs": [
        {
          "output_type": "stream",
          "name": "stdout",
          "text": [
            "[0.6]\n",
            "[0.4]\n"
          ]
        }
      ]
    },
    {
      "cell_type": "markdown",
      "source": [
        "Neither model seems to make any good predictions, the polynomial regression was close in 2/6 test cases, whereas the decision tree regression failed to even be close enough (<0.1) to any of the actual labels."
      ],
      "metadata": {
        "id": "Li8Daaf-KH-7"
      }
    },
    {
      "cell_type": "markdown",
      "source": [
        "This is because of the very small dataset (36 countries, where 7 were eliminated as they were clear outliers, resulting in only 29 countries) and the very complex nature of the dataset (countries with similar years in education value can have very different homicide rates). Another issue is that we only have a single feature to base the algorithm on, whereas the predicted indicator's complexity cannot be reaally represented by this single feature (as explained, countries with similar years in education value can have very different homicide rates, with no apparent connection between them expressed by the years in education feature). For better results, one would increase the dataset, taking into account a lot more statistics offered by OECD, for more years, and also one would include multiple features, such as employment rate, personal earnings, quality of support network, life satisfaction and others."
      ],
      "metadata": {
        "id": "nws4KSz1Kb9A"
      }
    },
    {
      "cell_type": "markdown",
      "source": [
        "As an exercise, let's try and include more features see how both models behave"
      ],
      "metadata": {
        "id": "8G0_WsZCPiCu"
      }
    },
    {
      "cell_type": "code",
      "source": [
        "country_stats = pd.read_csv(datapath + \"oecd_bli_2015.csv\", thousands=',')\n",
        "country_stats = country_stats[country_stats[\"INEQUALITY\"]==\"TOT\"]\n",
        "country_stats = country_stats.pivot(index=\"Country\", columns=\"Indicator\", values=\"Value\")\n",
        "print(country_stats[[\"Years in education\", \"Employment rate\", \"Quality of support network\", \"Life satisfaction\", \"Homicide rate\"]])\n",
        "X = np.c_[country_stats[[\"Years in education\", \"Employment rate\", \"Quality of support network\", \"Life satisfaction\"]]]\n",
        "y = np.c_[country_stats[\"Homicide rate\"]]"
      ],
      "metadata": {
        "colab": {
          "base_uri": "https://localhost:8080/"
        },
        "id": "-L5_PAPNPnIB",
        "outputId": "68ef8912-931b-4df0-f291-6bb312f64bd6"
      },
      "execution_count": 87,
      "outputs": [
        {
          "output_type": "stream",
          "name": "stdout",
          "text": [
            "Indicator        Years in education  Employment rate  \\\n",
            "Country                                                \n",
            "Australia                      19.4             72.0   \n",
            "Austria                        17.0             72.0   \n",
            "Belgium                        18.9             62.0   \n",
            "Brazil                         16.3             67.0   \n",
            "Canada                         17.2             72.0   \n",
            "Chile                          16.5             62.0   \n",
            "Czech Republic                 18.1             68.0   \n",
            "Denmark                        19.4             73.0   \n",
            "Estonia                        17.5             68.0   \n",
            "Finland                        19.7             69.0   \n",
            "France                         16.4             64.0   \n",
            "Germany                        18.2             73.0   \n",
            "Greece                         18.6             49.0   \n",
            "Hungary                        17.6             58.0   \n",
            "Iceland                        19.8             82.0   \n",
            "Ireland                        17.6             60.0   \n",
            "Israel                         15.8             67.0   \n",
            "Italy                          16.8             56.0   \n",
            "Japan                          16.3             72.0   \n",
            "Korea                          17.5             64.0   \n",
            "Luxembourg                     15.1             66.0   \n",
            "Mexico                         14.4             61.0   \n",
            "Netherlands                    18.7             74.0   \n",
            "New Zealand                    18.1             73.0   \n",
            "Norway                         17.9             75.0   \n",
            "OECD - Total                   17.7             65.0   \n",
            "Poland                         18.4             60.0   \n",
            "Portugal                       17.6             61.0   \n",
            "Russia                         16.0             69.0   \n",
            "Slovak Republic                16.3             60.0   \n",
            "Slovenia                       18.4             63.0   \n",
            "Spain                          17.6             56.0   \n",
            "Sweden                         19.3             74.0   \n",
            "Switzerland                    17.3             80.0   \n",
            "Turkey                         16.4             50.0   \n",
            "United Kingdom                 16.4             71.0   \n",
            "United States                  17.2             67.0   \n",
            "\n",
            "Indicator        Quality of support network  Life satisfaction  Homicide rate  \n",
            "Country                                                                        \n",
            "Australia                              92.0                7.3            0.8  \n",
            "Austria                                89.0                6.9            0.4  \n",
            "Belgium                                94.0                6.9            1.1  \n",
            "Brazil                                 90.0                7.0           25.5  \n",
            "Canada                                 92.0                7.3            1.5  \n",
            "Chile                                  86.0                6.7            4.4  \n",
            "Czech Republic                         85.0                6.5            0.8  \n",
            "Denmark                                95.0                7.5            0.3  \n",
            "Estonia                                89.0                5.6            4.8  \n",
            "Finland                                95.0                7.4            1.4  \n",
            "France                                 87.0                6.5            0.6  \n",
            "Germany                                94.0                7.0            0.5  \n",
            "Greece                                 83.0                4.8            1.6  \n",
            "Hungary                                87.0                4.9            1.3  \n",
            "Iceland                                96.0                7.5            0.3  \n",
            "Ireland                                96.0                7.0            0.8  \n",
            "Israel                                 87.0                7.4            2.3  \n",
            "Italy                                  90.0                6.0            0.7  \n",
            "Japan                                  89.0                5.9            0.3  \n",
            "Korea                                  72.0                5.8            1.1  \n",
            "Luxembourg                             87.0                6.9            0.4  \n",
            "Mexico                                 77.0                6.7           23.4  \n",
            "Netherlands                            90.0                7.3            0.9  \n",
            "New Zealand                            94.0                7.3            1.2  \n",
            "Norway                                 94.0                7.4            0.6  \n",
            "OECD - Total                           88.0                6.6            4.0  \n",
            "Poland                                 91.0                5.8            0.9  \n",
            "Portugal                               86.0                5.1            1.1  \n",
            "Russia                                 90.0                6.0           12.8  \n",
            "Slovak Republic                        90.0                6.1            1.2  \n",
            "Slovenia                               90.0                5.7            0.4  \n",
            "Spain                                  95.0                6.5            0.6  \n",
            "Sweden                                 92.0                7.2            0.7  \n",
            "Switzerland                            96.0                7.5            0.5  \n",
            "Turkey                                 86.0                5.6            1.2  \n",
            "United Kingdom                         91.0                6.8            0.3  \n",
            "United States                          90.0                7.2            5.2  \n"
          ]
        }
      ]
    },
    {
      "cell_type": "markdown",
      "source": [
        "Let's again remove the outliers in the predicted indicator's column, removing the same countries."
      ],
      "metadata": {
        "id": "LKrz7gpaQcJX"
      }
    },
    {
      "cell_type": "code",
      "source": [
        "remove_indices = [3, 5, 8, 16, 21, 25, 28]\n",
        "keep_indices = list(set(range(36)) - set(remove_indices))\n",
        "country_stats = country_stats[[\"Years in education\", \"Employment rate\", \"Quality of support network\", \"Life satisfaction\", \"Homicide rate\"]].iloc[keep_indices]\n",
        "print(country_stats[[\"Years in education\", \"Employment rate\", \"Quality of support network\", \"Life satisfaction\", \"Homicide rate\"]])\n",
        "X = np.c_[country_stats[[\"Years in education\", \"Employment rate\", \"Quality of support network\", \"Life satisfaction\"]]]\n",
        "y = np.c_[country_stats[\"Homicide rate\"]]"
      ],
      "metadata": {
        "colab": {
          "base_uri": "https://localhost:8080/"
        },
        "id": "yAnlmiqsQfkQ",
        "outputId": "00d91560-3902-4e5d-e111-a9c14f1262c4"
      },
      "execution_count": 88,
      "outputs": [
        {
          "output_type": "stream",
          "name": "stdout",
          "text": [
            "Indicator        Years in education  Employment rate  \\\n",
            "Country                                                \n",
            "Australia                      19.4             72.0   \n",
            "Austria                        17.0             72.0   \n",
            "Belgium                        18.9             62.0   \n",
            "Canada                         17.2             72.0   \n",
            "Czech Republic                 18.1             68.0   \n",
            "Denmark                        19.4             73.0   \n",
            "Finland                        19.7             69.0   \n",
            "France                         16.4             64.0   \n",
            "Germany                        18.2             73.0   \n",
            "Greece                         18.6             49.0   \n",
            "Hungary                        17.6             58.0   \n",
            "Iceland                        19.8             82.0   \n",
            "Ireland                        17.6             60.0   \n",
            "Italy                          16.8             56.0   \n",
            "Japan                          16.3             72.0   \n",
            "Korea                          17.5             64.0   \n",
            "Luxembourg                     15.1             66.0   \n",
            "Netherlands                    18.7             74.0   \n",
            "New Zealand                    18.1             73.0   \n",
            "Norway                         17.9             75.0   \n",
            "Poland                         18.4             60.0   \n",
            "Portugal                       17.6             61.0   \n",
            "Slovak Republic                16.3             60.0   \n",
            "Slovenia                       18.4             63.0   \n",
            "Spain                          17.6             56.0   \n",
            "Sweden                         19.3             74.0   \n",
            "Switzerland                    17.3             80.0   \n",
            "Turkey                         16.4             50.0   \n",
            "United Kingdom                 16.4             71.0   \n",
            "\n",
            "Indicator        Quality of support network  Life satisfaction  Homicide rate  \n",
            "Country                                                                        \n",
            "Australia                              92.0                7.3            0.8  \n",
            "Austria                                89.0                6.9            0.4  \n",
            "Belgium                                94.0                6.9            1.1  \n",
            "Canada                                 92.0                7.3            1.5  \n",
            "Czech Republic                         85.0                6.5            0.8  \n",
            "Denmark                                95.0                7.5            0.3  \n",
            "Finland                                95.0                7.4            1.4  \n",
            "France                                 87.0                6.5            0.6  \n",
            "Germany                                94.0                7.0            0.5  \n",
            "Greece                                 83.0                4.8            1.6  \n",
            "Hungary                                87.0                4.9            1.3  \n",
            "Iceland                                96.0                7.5            0.3  \n",
            "Ireland                                96.0                7.0            0.8  \n",
            "Italy                                  90.0                6.0            0.7  \n",
            "Japan                                  89.0                5.9            0.3  \n",
            "Korea                                  72.0                5.8            1.1  \n",
            "Luxembourg                             87.0                6.9            0.4  \n",
            "Netherlands                            90.0                7.3            0.9  \n",
            "New Zealand                            94.0                7.3            1.2  \n",
            "Norway                                 94.0                7.4            0.6  \n",
            "Poland                                 91.0                5.8            0.9  \n",
            "Portugal                               86.0                5.1            1.1  \n",
            "Slovak Republic                        90.0                6.1            1.2  \n",
            "Slovenia                               90.0                5.7            0.4  \n",
            "Spain                                  95.0                6.5            0.6  \n",
            "Sweden                                 92.0                7.2            0.7  \n",
            "Switzerland                            96.0                7.5            0.5  \n",
            "Turkey                                 86.0                5.6            1.2  \n",
            "United Kingdom                         91.0                6.8            0.3  \n"
          ]
        }
      ]
    },
    {
      "cell_type": "markdown",
      "source": [
        "Let's again randomly split the data into training and test sets."
      ],
      "metadata": {
        "id": "VrERFmbnRByg"
      }
    },
    {
      "cell_type": "code",
      "source": [
        "from sklearn.model_selection import ShuffleSplit\n",
        "split = ShuffleSplit(n_splits=1, test_size=0.2, random_state=19)\n",
        "X_test, y_test = None, None\n",
        "for train_idx, test_idx in split.split(country_stats, country_stats[\"Homicide rate\"]):\n",
        "    print(country_stats.iloc[train_idx])\n",
        "    X = np.c_[country_stats.iloc[train_idx][[\"Years in education\", \"Employment rate\", \"Quality of support network\", \"Life satisfaction\"]]]\n",
        "    y = np.c_[country_stats.iloc[train_idx][\"Homicide rate\"]]\n",
        "    X_test = np.c_[country_stats.iloc[test_idx][[\"Years in education\", \"Employment rate\", \"Quality of support network\", \"Life satisfaction\"]]]\n",
        "    y_test = np.c_[country_stats.iloc[test_idx][\"Homicide rate\"]]"
      ],
      "metadata": {
        "colab": {
          "base_uri": "https://localhost:8080/"
        },
        "id": "xwN9HnQnRE6I",
        "outputId": "99e5710e-df84-4a36-fb4a-2cef2a409ffa"
      },
      "execution_count": 89,
      "outputs": [
        {
          "output_type": "stream",
          "name": "stdout",
          "text": [
            "Indicator        Years in education  Employment rate  \\\n",
            "Country                                                \n",
            "Iceland                        19.8             82.0   \n",
            "Spain                          17.6             56.0   \n",
            "Czech Republic                 18.1             68.0   \n",
            "Netherlands                    18.7             74.0   \n",
            "Greece                         18.6             49.0   \n",
            "Luxembourg                     15.1             66.0   \n",
            "United Kingdom                 16.4             71.0   \n",
            "Australia                      19.4             72.0   \n",
            "Korea                          17.5             64.0   \n",
            "France                         16.4             64.0   \n",
            "Ireland                        17.6             60.0   \n",
            "Slovak Republic                16.3             60.0   \n",
            "Austria                        17.0             72.0   \n",
            "Denmark                        19.4             73.0   \n",
            "Turkey                         16.4             50.0   \n",
            "Switzerland                    17.3             80.0   \n",
            "Hungary                        17.6             58.0   \n",
            "Poland                         18.4             60.0   \n",
            "Norway                         17.9             75.0   \n",
            "Germany                        18.2             73.0   \n",
            "Belgium                        18.9             62.0   \n",
            "Portugal                       17.6             61.0   \n",
            "Japan                          16.3             72.0   \n",
            "\n",
            "Indicator        Quality of support network  Life satisfaction  Homicide rate  \n",
            "Country                                                                        \n",
            "Iceland                                96.0                7.5            0.3  \n",
            "Spain                                  95.0                6.5            0.6  \n",
            "Czech Republic                         85.0                6.5            0.8  \n",
            "Netherlands                            90.0                7.3            0.9  \n",
            "Greece                                 83.0                4.8            1.6  \n",
            "Luxembourg                             87.0                6.9            0.4  \n",
            "United Kingdom                         91.0                6.8            0.3  \n",
            "Australia                              92.0                7.3            0.8  \n",
            "Korea                                  72.0                5.8            1.1  \n",
            "France                                 87.0                6.5            0.6  \n",
            "Ireland                                96.0                7.0            0.8  \n",
            "Slovak Republic                        90.0                6.1            1.2  \n",
            "Austria                                89.0                6.9            0.4  \n",
            "Denmark                                95.0                7.5            0.3  \n",
            "Turkey                                 86.0                5.6            1.2  \n",
            "Switzerland                            96.0                7.5            0.5  \n",
            "Hungary                                87.0                4.9            1.3  \n",
            "Poland                                 91.0                5.8            0.9  \n",
            "Norway                                 94.0                7.4            0.6  \n",
            "Germany                                94.0                7.0            0.5  \n",
            "Belgium                                94.0                6.9            1.1  \n",
            "Portugal                               86.0                5.1            1.1  \n",
            "Japan                                  89.0                5.9            0.3  \n"
          ]
        }
      ]
    },
    {
      "cell_type": "markdown",
      "source": [
        "Let's now use grid search to get the best curve for the polynomial regressor"
      ],
      "metadata": {
        "id": "lObNesaZRhaN"
      }
    },
    {
      "cell_type": "code",
      "source": [
        "from sklearn.model_selection import GridSearchCV\n",
        "from sklearn.pipeline import make_pipeline\n",
        "\n",
        "def PolynomialRegression(degree=2, **kwargs):\n",
        "    return make_pipeline(PolynomialFeatures(degree), LinearRegression(**kwargs))\n",
        "\n",
        "param_grid = {'polynomialfeatures__degree': list(range(2, 15, 1))}\n",
        "\n",
        "poly_grid = GridSearchCV(PolynomialRegression(), param_grid, cv=10, scoring='neg_mean_squared_error')\n",
        "poly_grid.fit(X, y)\n",
        "print(poly_grid.best_params_)"
      ],
      "metadata": {
        "colab": {
          "base_uri": "https://localhost:8080/"
        },
        "id": "kdEgJMiJRlu-",
        "outputId": "501d37ab-2bcb-4a55-f39e-af157ece4086"
      },
      "execution_count": 90,
      "outputs": [
        {
          "output_type": "stream",
          "name": "stdout",
          "text": [
            "{'polynomialfeatures__degree': 3}\n"
          ]
        }
      ]
    },
    {
      "cell_type": "markdown",
      "source": [
        "Let's now do all the metrics on the new polynom"
      ],
      "metadata": {
        "id": "Q4yXVCXpStuR"
      }
    },
    {
      "cell_type": "code",
      "source": [
        "polynomial_regression = poly_grid.best_estimator_\n",
        "poly_predict = polynomial_regression.predict(X)\n",
        "poly_rmse = np.sqrt(mean_squared_error(y, poly_predict))\n",
        "print(\"RMSE: \" + str(poly_rmse))\n",
        "scores = cross_val_score(polynomial_regression, X, y,\n",
        "                         scoring=\"neg_mean_squared_error\", cv=10)\n",
        "poly_rmse_scores = np.sqrt(-scores)\n",
        "print(\"Cross validation: \" + str(poly_rmse_scores))\n",
        "print(\"Mean: \", poly_rmse_scores.mean())\n",
        "print(\"Std deviation: \", poly_rmse_scores.std())"
      ],
      "metadata": {
        "colab": {
          "base_uri": "https://localhost:8080/"
        },
        "id": "ZQWrWFESS3v2",
        "outputId": "97d51bbb-2957-4b3a-a033-39912e106031"
      },
      "execution_count": 91,
      "outputs": [
        {
          "output_type": "stream",
          "name": "stdout",
          "text": [
            "RMSE: 2.391858196344189e-13\n",
            "Cross validation: [1.25579623 1.35438401 1.08937044 0.71785219 1.00670778 0.58999086\n",
            " 0.68073275 0.41912381 0.44845366 0.84909794]\n",
            "Mean:  0.8411509689085049\n",
            "Std deviation:  0.3099612975273186\n"
          ]
        }
      ]
    },
    {
      "cell_type": "markdown",
      "source": [
        "Let's see how it does on the training and test data"
      ],
      "metadata": {
        "id": "dsAsqTF0TUG5"
      }
    },
    {
      "cell_type": "code",
      "source": [
        "print(\"TRAINING DATA\")\n",
        "print(poly_predict)\n",
        "print(y)\n",
        "print(\"TEST DATA\")\n",
        "test_poly_predict = polynomial_regression.predict(X_test)\n",
        "print(test_poly_predict)\n",
        "print(y_test)"
      ],
      "metadata": {
        "colab": {
          "base_uri": "https://localhost:8080/"
        },
        "id": "Gge0ZfQyTXcS",
        "outputId": "adbe1181-8b03-456f-a366-7333031d860d"
      },
      "execution_count": 92,
      "outputs": [
        {
          "output_type": "stream",
          "name": "stdout",
          "text": [
            "TRAINING DATA\n",
            "[[0.3]\n",
            " [0.6]\n",
            " [0.8]\n",
            " [0.9]\n",
            " [1.6]\n",
            " [0.4]\n",
            " [0.3]\n",
            " [0.8]\n",
            " [1.1]\n",
            " [0.6]\n",
            " [0.8]\n",
            " [1.2]\n",
            " [0.4]\n",
            " [0.3]\n",
            " [1.2]\n",
            " [0.5]\n",
            " [1.3]\n",
            " [0.9]\n",
            " [0.6]\n",
            " [0.5]\n",
            " [1.1]\n",
            " [1.1]\n",
            " [0.3]]\n",
            "[[0.3]\n",
            " [0.6]\n",
            " [0.8]\n",
            " [0.9]\n",
            " [1.6]\n",
            " [0.4]\n",
            " [0.3]\n",
            " [0.8]\n",
            " [1.1]\n",
            " [0.6]\n",
            " [0.8]\n",
            " [1.2]\n",
            " [0.4]\n",
            " [0.3]\n",
            " [1.2]\n",
            " [0.5]\n",
            " [1.3]\n",
            " [0.9]\n",
            " [0.6]\n",
            " [0.5]\n",
            " [1.1]\n",
            " [1.1]\n",
            " [0.3]]\n",
            "TEST DATA\n",
            "[[1.18616272]\n",
            " [0.81500803]\n",
            " [1.10596141]\n",
            " [0.695556  ]\n",
            " [0.54997742]\n",
            " [0.5258404 ]]\n",
            "[[0.7]\n",
            " [1.5]\n",
            " [0.4]\n",
            " [1.4]\n",
            " [1.2]\n",
            " [0.7]]\n"
          ]
        }
      ]
    },
    {
      "cell_type": "markdown",
      "source": [
        "We can see very good results in the training data, however the algorithm still fails to generalize well. Let's see how the decision tree regressor does."
      ],
      "metadata": {
        "id": "KynmVCTlT11u"
      }
    },
    {
      "cell_type": "markdown",
      "source": [
        "We'll use again GridSearch to get the best hyperparameters for it."
      ],
      "metadata": {
        "id": "3huN8zWjT-oG"
      }
    },
    {
      "cell_type": "code",
      "source": [
        "params = {\"criterion\": [\"squared_error\", \"friedman_mse\", \"absolute_error\", \"poisson\"], \"min_samples_split\": list(range(1, 10, 1)),\n",
        "          \"min_samples_leaf\": list(range(1, 10, 1))}\n",
        "dt_grid = GridSearchCV(DecisionTreeRegressor(), params, cv=5, scoring=\"neg_mean_squared_error\")\n",
        "dt_grid.fit(X, y)\n",
        "print(dt_grid.best_params_)"
      ],
      "metadata": {
        "colab": {
          "base_uri": "https://localhost:8080/"
        },
        "id": "Vq8O-YMvT9fz",
        "outputId": "862fe564-05c3-43bb-f61b-a483f7ec0cd8"
      },
      "execution_count": 65,
      "outputs": [
        {
          "output_type": "stream",
          "name": "stdout",
          "text": [
            "{'criterion': 'squared_error', 'min_samples_leaf': 9, 'min_samples_split': 5}\n"
          ]
        },
        {
          "output_type": "stream",
          "name": "stderr",
          "text": [
            "/usr/local/lib/python3.10/dist-packages/sklearn/model_selection/_validation.py:378: FitFailedWarning: \n",
            "180 fits failed out of a total of 1620.\n",
            "The score on these train-test partitions for these parameters will be set to nan.\n",
            "If these failures are not expected, you can try to debug them by setting error_score='raise'.\n",
            "\n",
            "Below are more details about the failures:\n",
            "--------------------------------------------------------------------------------\n",
            "180 fits failed with the following error:\n",
            "Traceback (most recent call last):\n",
            "  File \"/usr/local/lib/python3.10/dist-packages/sklearn/model_selection/_validation.py\", line 686, in _fit_and_score\n",
            "    estimator.fit(X_train, y_train, **fit_params)\n",
            "  File \"/usr/local/lib/python3.10/dist-packages/sklearn/tree/_classes.py\", line 1247, in fit\n",
            "    super().fit(\n",
            "  File \"/usr/local/lib/python3.10/dist-packages/sklearn/tree/_classes.py\", line 177, in fit\n",
            "    self._validate_params()\n",
            "  File \"/usr/local/lib/python3.10/dist-packages/sklearn/base.py\", line 600, in _validate_params\n",
            "    validate_parameter_constraints(\n",
            "  File \"/usr/local/lib/python3.10/dist-packages/sklearn/utils/_param_validation.py\", line 97, in validate_parameter_constraints\n",
            "    raise InvalidParameterError(\n",
            "sklearn.utils._param_validation.InvalidParameterError: The 'min_samples_split' parameter of DecisionTreeRegressor must be an int in the range [2, inf) or a float in the range (0.0, 1.0]. Got 1 instead.\n",
            "\n",
            "  warnings.warn(some_fits_failed_message, FitFailedWarning)\n",
            "/usr/local/lib/python3.10/dist-packages/sklearn/model_selection/_search.py:952: UserWarning: One or more of the test scores are non-finite: [        nan -0.159      -0.1446     -0.14531111 -0.16763889 -0.17426456\n",
            " -0.15450556 -0.15019929 -0.13191233         nan -0.13753611 -0.143225\n",
            " -0.14263611 -0.13462778 -0.13227622 -0.14303611 -0.14659167 -0.13191233\n",
            "         nan -0.12091789 -0.12441789 -0.12258456 -0.12798056 -0.12798056\n",
            " -0.13555833 -0.13016233 -0.13730833         nan -0.13792294 -0.13792294\n",
            " -0.13792294 -0.13792294 -0.13792294 -0.13792294 -0.13252694 -0.13685507\n",
            "         nan -0.14498788 -0.14378788 -0.14498788 -0.14378788 -0.14378788\n",
            " -0.14378788 -0.14498788 -0.14498788         nan -0.13282912 -0.13282912\n",
            " -0.13282912 -0.13282912 -0.13282912 -0.13282912 -0.13282912 -0.13282912\n",
            "         nan -0.12117468 -0.08090801 -0.12117468 -0.12117468 -0.12117468\n",
            " -0.12117468 -0.08090801 -0.12117468         nan -0.12117468 -0.08090801\n",
            " -0.08090801 -0.12117468 -0.12117468 -0.12117468 -0.12117468 -0.08090801\n",
            "         nan -0.06627642 -0.06627642 -0.10654309 -0.06627642 -0.10654309\n",
            " -0.06627642 -0.10654309 -0.06627642         nan -0.1393     -0.1467\n",
            " -0.16104444 -0.1647     -0.14944511 -0.14910956 -0.15019929 -0.13191233\n",
            "         nan -0.12643611 -0.13513611 -0.14948056 -0.15297222 -0.14312778\n",
            " -0.14119567 -0.13275122 -0.13730833         nan -0.12981389 -0.13148056\n",
            " -0.12981389 -0.12441789 -0.12981389 -0.13016233 -0.13016233 -0.13730833\n",
            "         nan -0.13792294 -0.13792294 -0.13792294 -0.13792294 -0.13252694\n",
            " -0.13252694 -0.13792294 -0.14225107         nan -0.14498788 -0.14498788\n",
            " -0.14498788 -0.14498788 -0.14498788 -0.14498788 -0.14498788 -0.14498788\n",
            "         nan -0.13282912 -0.13282912 -0.13282912 -0.13282912 -0.13282912\n",
            " -0.13282912 -0.13282912 -0.13282912         nan -0.12117468 -0.12117468\n",
            " -0.12117468 -0.08090801 -0.12117468 -0.08090801 -0.08090801 -0.12117468\n",
            "         nan -0.12117468 -0.08090801 -0.08090801 -0.12117468 -0.12117468\n",
            " -0.12117468 -0.08090801 -0.08090801         nan -0.10654309 -0.06627642\n",
            " -0.06627642 -0.06627642 -0.10654309 -0.06627642 -0.10654309 -0.06627642\n",
            "         nan -0.1565     -0.158025   -0.159425   -0.171725   -0.1616\n",
            " -0.161025   -0.1396     -0.1563             nan -0.138625   -0.13805\n",
            " -0.144725   -0.14115    -0.13945    -0.1478     -0.144      -0.140225\n",
            "         nan -0.1199     -0.1219     -0.131      -0.1235     -0.1295\n",
            " -0.146      -0.1315     -0.1315             nan -0.150075   -0.144375\n",
            " -0.14875    -0.144375   -0.14425    -0.14425    -0.139875   -0.14975\n",
            "         nan -0.1479     -0.1479     -0.1479     -0.1479     -0.1479\n",
            " -0.1479     -0.1479     -0.1479             nan -0.1163     -0.1163\n",
            " -0.1188     -0.1163     -0.1188     -0.1188     -0.1188     -0.1163\n",
            "         nan -0.06655    -0.11855    -0.06655    -0.11855    -0.06655\n",
            " -0.06655    -0.11855    -0.11855            nan -0.06655    -0.06655\n",
            " -0.06655    -0.11855    -0.06655    -0.06655    -0.11855    -0.11855\n",
            "         nan -0.11855    -0.11855    -0.06655    -0.06655    -0.11855\n",
            " -0.11855    -0.11855    -0.11855            nan -0.1393     -0.1428\n",
            " -0.1168     -0.1593     -0.15977056 -0.156016   -0.15710574 -0.12650678\n",
            "         nan -0.130225   -0.13365833 -0.13986944 -0.1142     -0.14223333\n",
            " -0.13579011 -0.13274167 -0.13190278         nan -0.12184167 -0.111279\n",
            " -0.12184167 -0.111279   -0.11294567 -0.12475678 -0.13015278 -0.12650678\n",
            "         nan -0.13251739 -0.13251739 -0.13251739 -0.12712139 -0.12712139\n",
            " -0.13251739 -0.13251739 -0.13684551         nan -0.14498788 -0.14498788\n",
            " -0.14378788 -0.14378788 -0.14498788 -0.14378788 -0.14498788 -0.14498788\n",
            "         nan -0.13282912 -0.13282912 -0.13282912 -0.13282912 -0.13282912\n",
            " -0.13282912 -0.13282912 -0.13282912         nan -0.12117468 -0.12117468\n",
            " -0.12117468 -0.12117468 -0.08090801 -0.08090801 -0.08090801 -0.12117468\n",
            "         nan -0.12117468 -0.12117468 -0.12117468 -0.08090801 -0.08090801\n",
            " -0.12117468 -0.12117468 -0.08090801         nan -0.10654309 -0.10654309\n",
            " -0.10654309 -0.06627642 -0.10654309 -0.10654309 -0.06627642 -0.10654309]\n",
            "  warnings.warn(\n"
          ]
        }
      ]
    },
    {
      "cell_type": "markdown",
      "source": [
        "Let's redo the metrics for the decision tree regressor."
      ],
      "metadata": {
        "id": "Zs9nd6ldWAzR"
      }
    },
    {
      "cell_type": "code",
      "source": [
        "dt_regression = dt_grid.best_estimator_\n",
        "dt_predict = dt_regression.predict(X)\n",
        "dt_rmse = np.sqrt(mean_squared_error(y, dt_predict))\n",
        "print(\"RMSE: \" + str(dt_rmse))\n",
        "dt_scores = cross_val_score(dt_regression, X, y,\n",
        "                         scoring=\"neg_mean_squared_error\", cv=10)\n",
        "dt_rmse_scores = np.sqrt(-scores)\n",
        "print(\"Cross validation: \" + str(dt_rmse_scores))\n",
        "print(\"Mean: \", dt_rmse_scores.mean())\n",
        "print(\"Std deviation: \", dt_rmse_scores.std())"
      ],
      "metadata": {
        "colab": {
          "base_uri": "https://localhost:8080/"
        },
        "id": "2CM1SGVzWDeb",
        "outputId": "f4cb2319-9ef3-4f9a-e099-f89fe32c8614"
      },
      "execution_count": 93,
      "outputs": [
        {
          "output_type": "stream",
          "name": "stdout",
          "text": [
            "RMSE: 0.24990775636825904\n",
            "Cross validation: [1.25579623 1.35438401 1.08937044 0.71785219 1.00670778 0.58999086\n",
            " 0.68073275 0.41912381 0.44845366 0.84909794]\n",
            "Mean:  0.8411509689085049\n",
            "Std deviation:  0.3099612975273186\n"
          ]
        }
      ]
    },
    {
      "cell_type": "markdown",
      "source": [
        "Let's now see what it gives for the training and test data"
      ],
      "metadata": {
        "id": "ZnliR7r7WQgm"
      }
    },
    {
      "cell_type": "code",
      "source": [
        "print(\"TRAINING DATA\")\n",
        "print(dt_predict)\n",
        "print(y)\n",
        "print(\"TEST DATA\")\n",
        "test_dt_predict = dt_regression.predict(X_test)\n",
        "print(test_dt_predict)\n",
        "print(y_test)"
      ],
      "metadata": {
        "colab": {
          "base_uri": "https://localhost:8080/"
        },
        "id": "hrksRRc7WSzj",
        "outputId": "f940190b-dc84-4551-8880-d0af334a7221"
      },
      "execution_count": 94,
      "outputs": [
        {
          "output_type": "stream",
          "name": "stdout",
          "text": [
            "TRAINING DATA\n",
            "[0.50833333 1.04545455 0.50833333 0.50833333 1.04545455 0.50833333\n",
            " 0.50833333 0.50833333 1.04545455 1.04545455 1.04545455 1.04545455\n",
            " 0.50833333 0.50833333 1.04545455 0.50833333 1.04545455 1.04545455\n",
            " 0.50833333 0.50833333 1.04545455 1.04545455 0.50833333]\n",
            "[[0.3]\n",
            " [0.6]\n",
            " [0.8]\n",
            " [0.9]\n",
            " [1.6]\n",
            " [0.4]\n",
            " [0.3]\n",
            " [0.8]\n",
            " [1.1]\n",
            " [0.6]\n",
            " [0.8]\n",
            " [1.2]\n",
            " [0.4]\n",
            " [0.3]\n",
            " [1.2]\n",
            " [0.5]\n",
            " [1.3]\n",
            " [0.9]\n",
            " [0.6]\n",
            " [0.5]\n",
            " [1.1]\n",
            " [1.1]\n",
            " [0.3]]\n",
            "TEST DATA\n",
            "[1.04545455 0.50833333 1.04545455 0.50833333 0.50833333 0.50833333]\n",
            "[[0.7]\n",
            " [1.5]\n",
            " [0.4]\n",
            " [1.4]\n",
            " [1.2]\n",
            " [0.7]]\n"
          ]
        }
      ]
    },
    {
      "cell_type": "markdown",
      "source": [
        "We can see a total failure of the decision tree regressor, on both datasets. It is probably due to the small quantity of data, not enough for it to fully generalize and observe the complex patterns. Let's do a final side-by-side comparison between those 2 models."
      ],
      "metadata": {
        "id": "f00L_kKkXF79"
      }
    },
    {
      "cell_type": "code",
      "source": [
        "print (\"{:<19} {:<19} {:<19} {:<19}\".format('RMSE','Mean','Standard Deviation', 'Model'))\n",
        "print (\"{:<19} {:<19} {:<19} {:<19}\".format(poly_rmse, poly_rmse_scores.mean(), poly_rmse_scores.std(), \"Polynomial Regression\"))\n",
        "print (\"{:<19} {:<19} {:<19} {:<19}\".format(dt_rmse, dt_rmse_scores.mean(), dt_rmse_scores.std(), \"Decision Tree Regression\"))\n",
        "poly_train_ctr = 0\n",
        "for i in range(len(poly_predict)):\n",
        "    if np.abs(poly_predict[i] - y[i]) < 0.1:\n",
        "        poly_train_ctr += 1\n",
        "poly_test_ctr = 0\n",
        "for i in range(len(test_poly_predict)):\n",
        "    if np.abs(test_poly_predict[i] - y_test[i]) < 0.1:\n",
        "        poly_test_ctr += 1\n",
        "dt_train_ctr = 0\n",
        "for i in range(len(dt_predict)):\n",
        "    if np.abs(dt_predict[i] - y[i]) < 0.1:\n",
        "        dt_train_ctr += 1\n",
        "dt_test_ctr = 0\n",
        "for i in range(len(test_dt_predict)):\n",
        "    if np.abs(test_dt_predict[i] - y_test[i]) < 0.1:\n",
        "        dt_test_ctr += 1\n",
        "print()\n",
        "print (\"{:<19} {:<19} {:<19}\".format('Training set','Test set', 'Model'))\n",
        "print (\"{:<19} {:<19} {:<19}\".format(str(poly_train_ctr) + \"/23\", str(poly_test_ctr) + \"/6\", \"Polynomial Regression\"))\n",
        "print (\"{:<19} {:<19} {:<19}\".format(str(dt_train_ctr) + \"/23\", str(dt_test_ctr) + \"/6\", \"Decision Tree Regression\"))"
      ],
      "metadata": {
        "colab": {
          "base_uri": "https://localhost:8080/"
        },
        "id": "T3ycp4nEXX0t",
        "outputId": "6f490b12-e402-41fd-e83b-ecee361da032"
      },
      "execution_count": 95,
      "outputs": [
        {
          "output_type": "stream",
          "name": "stdout",
          "text": [
            "RMSE                Mean                Standard Deviation  Model              \n",
            "2.391858196344189e-13 0.8411509689085049  0.3099612975273186  Polynomial Regression\n",
            "0.24990775636825904 0.8411509689085049  0.3099612975273186  Decision Tree Regression\n",
            "\n",
            "Training set        Test set            Model              \n",
            "23/23               0/6                 Polynomial Regression\n",
            "6/23                0/6                 Decision Tree Regression\n"
          ]
        }
      ]
    },
    {
      "cell_type": "markdown",
      "source": [
        "**Conclusion:**\n",
        "With more features, the polynomial regression model predicted the training set perfectly, however, it failed to generalize, due to the lack of data. On the other hand, the decision tree regression model got lost in the complexity of the data and it's lack of quantity, and failed to predict anything correctly. More data is required for these models to achieve better predictions."
      ],
      "metadata": {
        "id": "c2RAH1rFXurw"
      }
    }
  ]
}